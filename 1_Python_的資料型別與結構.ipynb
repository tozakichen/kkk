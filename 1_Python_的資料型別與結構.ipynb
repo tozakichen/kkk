{
  "cells": [
    {
      "cell_type": "markdown",
      "metadata": {
        "id": "view-in-github",
        "colab_type": "text"
      },
      "source": [
        "<a href=\"https://colab.research.google.com/github/tozakichen/kkk/blob/main/1_Python_%E7%9A%84%E8%B3%87%E6%96%99%E5%9E%8B%E5%88%A5%E8%88%87%E7%B5%90%E6%A7%8B.ipynb\" target=\"_parent\"><img src=\"https://colab.research.google.com/assets/colab-badge.svg\" alt=\"Open In Colab\"/></a>"
      ]
    },
    {
      "cell_type": "markdown",
      "source": [
        "# 自我介紹及課程說明"
      ],
      "metadata": {
        "id": "0F0g1C3JdA6E"
      }
    },
    {
      "cell_type": "markdown",
      "source": [
        "### 聯絡方式\n",
        "#### 姓名：温淑梅\n",
        "#### EMAIL：tvomtvom@gmail.com\n"
      ],
      "metadata": {
        "id": "KsCExH_jbc8v"
      }
    },
    {
      "cell_type": "markdown",
      "source": [
        "### 分組作業說明\n",
        "#### 請同學於4/15之前完成分組，分組名單請上傳至[分組問卷](https://forms.gle/Fu3dKXKhiLn5RGqX8)中\n",
        "#### 每組1~8人，如果有外系或學長姐找不到其他組員可以反應在分組名單問卷上，預計將於4/25上課時再協助你們合併組別。"
      ],
      "metadata": {
        "id": "SBAF2RdoblSf"
      }
    },
    {
      "cell_type": "markdown",
      "source": [
        "### 課程內容規劃\n",
        "#### 1.Python入門\n",
        "- 資料型別與資料結構\n",
        "- 條件判斷式\n",
        "- 迴圈\n",
        "\n",
        "#### 2.資料分析常用套件----pandas、numpy\n",
        "- 什麼是Series？什麼是DataFrame？\n",
        "- 如何匯入及匯出資料集\n",
        "- 資料預處理\n",
        "- 資料篩選\n",
        "- 資料集合併\n",
        "- 資料分組\n",
        "- 計算統計量\n",
        "\n",
        "#### 3.統計圖表繪製----matplotlib\n",
        "- 類別資料（如長條圖、圓餅圖等）\n",
        "- 連續資料（如直方圖、折線圖、散佈圖、盒鬚圖等）\n",
        "\n",
        "#### 4.如何將程式上傳Github\n"
      ],
      "metadata": {
        "id": "r5RjXZ0tdOFs"
      }
    },
    {
      "cell_type": "markdown",
      "source": [
        "## Python小細節\n",
        "#### python變數的命名規則\n",
        "1. python變數首字只能是```_```或英文，不能是數字；第2個字之後可以是```_```、英文及數字。\n",
        "2. python中的關鍵字，不要當作變數名稱，不然會讓該關鍵字原本功能喪失\n",
        "3. python中的英文大小寫是不一樣的\n",
        "\n",
        "#### 其他常用指令及符號\n",
        "1. 要確認執行結果，可以用```print()```\n",
        "2. python程式中的```#```是註解的意思，即在執行時不會執行```#```後方的字\n",
        "3. ```\\n```代表強制換行的指令\n",
        "4. 指令中如果是關鍵字、變數名稱通常不加引號，如果有加引號，則多為字串型態的資料。\n",
        "5. 如果要由鍵盤將資料新增到資料中，會用到的指令是```input(\"顯示在螢幕上的提示文字\")```"
      ],
      "metadata": {
        "id": "Umrj9JMohlCX"
      }
    },
    {
      "cell_type": "markdown",
      "metadata": {
        "id": "pxFLNqa5ncqb"
      },
      "source": [
        "# Python 的資料型別與結構\n"
      ]
    },
    {
      "cell_type": "markdown",
      "source": [
        "## 基本資料型別\n",
        "* int(數值)：整數數值，例如409。\n",
        "* float(浮點數)：帶有小數點的數字，例如：3.14。\n",
        "* str(字串)：用單引號或雙引號括起來的文字，例如：\"LM409\"、'3.14'。\n",
        "\n",
        "* bool(布林值)：True 和 False\n",
        "\n",
        "### 常用語法\n",
        "* 型別類型：type()\n",
        "* 跟型別運算：3*5、\"3\"*5、\"3\"/5、\"3\"+5、\"3\"-5，分別的結果是?\n",
        "* 型別轉換：int()、float()、str()\n"
      ],
      "metadata": {
        "id": "B8sQmgXGsyPZ"
      }
    },
    {
      "cell_type": "code",
      "execution_count": null,
      "metadata": {
        "id": "kqKMMqr_ncqh",
        "colab": {
          "base_uri": "https://localhost:8080/"
        },
        "outputId": "30d8cb40-be5f-47f3-a8c3-7c2f343caf39"
      },
      "outputs": [
        {
          "output_type": "execute_result",
          "data": {
            "text/plain": [
              "40"
            ]
          },
          "metadata": {},
          "execution_count": 2
        }
      ],
      "source": [
        "int(\"3\"+str(5))+5"
      ]
    },
    {
      "cell_type": "code",
      "execution_count": null,
      "metadata": {
        "id": "-OZYCX0Dncqj",
        "colab": {
          "base_uri": "https://localhost:8080/",
          "height": 141
        },
        "outputId": "36eafb8e-381c-49bf-d142-fdd6e550ab66"
      },
      "outputs": [
        {
          "output_type": "error",
          "ename": "TypeError",
          "evalue": "unsupported operand type(s) for -: 'str' and 'int'",
          "traceback": [
            "\u001b[0;31m---------------------------------------------------------------------------\u001b[0m",
            "\u001b[0;31mTypeError\u001b[0m                                 Traceback (most recent call last)",
            "\u001b[0;32m<ipython-input-3-656dca777801>\u001b[0m in \u001b[0;36m<cell line: 0>\u001b[0;34m()\u001b[0m\n\u001b[0;32m----> 1\u001b[0;31m \u001b[0;34m\"3\"\u001b[0m\u001b[0;34m-\u001b[0m\u001b[0;36m5\u001b[0m\u001b[0;34m\u001b[0m\u001b[0;34m\u001b[0m\u001b[0m\n\u001b[0m",
            "\u001b[0;31mTypeError\u001b[0m: unsupported operand type(s) for -: 'str' and 'int'"
          ]
        }
      ],
      "source": [
        "\"3\"-5"
      ]
    },
    {
      "cell_type": "code",
      "execution_count": null,
      "metadata": {
        "id": "roD-7A3wncqj",
        "colab": {
          "base_uri": "https://localhost:8080/",
          "height": 35
        },
        "outputId": "4849d959-3833-4664-abfe-2d8331fe61cf"
      },
      "outputs": [
        {
          "output_type": "execute_result",
          "data": {
            "text/plain": [
              "'555'"
            ],
            "application/vnd.google.colaboratory.intrinsic+json": {
              "type": "string"
            }
          },
          "metadata": {},
          "execution_count": 4
        }
      ],
      "source": [
        "3*\"5\""
      ]
    },
    {
      "cell_type": "code",
      "execution_count": null,
      "metadata": {
        "id": "Vl_AWCsGncqk",
        "colab": {
          "base_uri": "https://localhost:8080/",
          "height": 141
        },
        "outputId": "35a9a873-4f2f-4c3e-d31d-32f9801cc88f"
      },
      "outputs": [
        {
          "output_type": "error",
          "ename": "TypeError",
          "evalue": "unsupported operand type(s) for /: 'str' and 'int'",
          "traceback": [
            "\u001b[0;31m---------------------------------------------------------------------------\u001b[0m",
            "\u001b[0;31mTypeError\u001b[0m                                 Traceback (most recent call last)",
            "\u001b[0;32m<ipython-input-5-c229b8927f64>\u001b[0m in \u001b[0;36m<cell line: 0>\u001b[0;34m()\u001b[0m\n\u001b[0;32m----> 1\u001b[0;31m \u001b[0;34m\"3\"\u001b[0m\u001b[0;34m/\u001b[0m\u001b[0;36m5\u001b[0m\u001b[0;34m\u001b[0m\u001b[0;34m\u001b[0m\u001b[0m\n\u001b[0m",
            "\u001b[0;31mTypeError\u001b[0m: unsupported operand type(s) for /: 'str' and 'int'"
          ]
        }
      ],
      "source": [
        "\"3\"/5"
      ]
    },
    {
      "cell_type": "markdown",
      "source": [
        "## 資料結構\n"
      ],
      "metadata": {
        "id": "vixWCvRXtNBJ"
      }
    },
    {
      "cell_type": "markdown",
      "source": [
        "### tuple(數組)\n",
        "- tuple使用( )表示，不同的值用逗號分隔。\n",
        "\n",
        "```\n",
        "變數名稱=(值1, 值2, ...)       ##建立一個新的tuple\n",
        "變數名稱=()                    ##建立一個空白的tuple\n",
        "tuple變數名稱 += (值1, 值2, ...)   ##新增tuple的元素(只能往後增加，不能修改其他元素及位置)\n",
        "```\n"
      ],
      "metadata": {
        "id": "iRO3OtT9uv8f"
      }
    },
    {
      "cell_type": "markdown",
      "source": [
        "##### 建立一個新的tuple\n",
        "```變數名稱=(值1, 值2, ...)```"
      ],
      "metadata": {
        "id": "kaJGAQ4Al6Oi"
      }
    },
    {
      "cell_type": "code",
      "source": [
        "tuple1=(1,2,3,\"a\")\n",
        "print(\"tuple1=\",tuple1)"
      ],
      "metadata": {
        "colab": {
          "base_uri": "https://localhost:8080/"
        },
        "id": "LngizIAwmmny",
        "outputId": "7bccef7a-91a0-4bbb-da53-3fae90e21092"
      },
      "execution_count": null,
      "outputs": [
        {
          "output_type": "stream",
          "name": "stdout",
          "text": [
            "tuple1= (1, 2, 3, 'a')\n"
          ]
        }
      ]
    },
    {
      "cell_type": "markdown",
      "source": [
        "##### 建立一個空白的tuple\n",
        "```變數名稱=()```"
      ],
      "metadata": {
        "id": "eKIajWNjmK7j"
      }
    },
    {
      "cell_type": "code",
      "source": [
        "tuple2=()\n",
        "print(\"tuple2=\",tuple2)"
      ],
      "metadata": {
        "colab": {
          "base_uri": "https://localhost:8080/"
        },
        "id": "lyXhJehJmq17",
        "outputId": "57c5b307-4840-4011-bac2-3e37c786d116"
      },
      "execution_count": null,
      "outputs": [
        {
          "output_type": "stream",
          "name": "stdout",
          "text": [
            "tuple2= ()\n"
          ]
        }
      ]
    },
    {
      "cell_type": "markdown",
      "source": [
        "##### 新增tuple的元素(只能往後增加，不能修改其他元素及位置)\n",
        "```tuple變數名稱 += (值1, 值2, ...) ```"
      ],
      "metadata": {
        "id": "m8ybdXhlmXGa"
      }
    },
    {
      "cell_type": "code",
      "execution_count": null,
      "metadata": {
        "id": "HmvV-JeAncqk",
        "colab": {
          "base_uri": "https://localhost:8080/"
        },
        "outputId": "69631975-2d68-4419-9e83-2b026c948a7f"
      },
      "outputs": [
        {
          "output_type": "stream",
          "name": "stdout",
          "text": [
            "((1, 2, 3, 'a'), ())\n",
            "tuple1=\n",
            " (1, 2, 3, 'a', 7, 8) \n",
            " ()\n"
          ]
        }
      ],
      "source": [
        "tuple3=(tuple1,tuple2)\n",
        "print(tuple3)\n",
        "\n",
        "tuple1+=(7,8)\n",
        "print(\"tuple1=\\n\",tuple1,\"\\n\",tuple2)"
      ]
    },
    {
      "cell_type": "code",
      "source": [
        "tuple4=tuple1+(\"10\",11)\n",
        "print(tuple4)"
      ],
      "metadata": {
        "id": "vceNDqMf3A_M",
        "colab": {
          "base_uri": "https://localhost:8080/"
        },
        "outputId": "aa6d5ca3-935f-462e-a445-5e5743d7ba79"
      },
      "execution_count": null,
      "outputs": [
        {
          "output_type": "stream",
          "name": "stdout",
          "text": [
            "(1, 2, 3, 'a', 7, 8, '10', 11)\n"
          ]
        }
      ]
    },
    {
      "cell_type": "markdown",
      "source": [
        "### set(集合)\n",
        "- set用{ }表示，不同的值用逗號分隔。\n",
        "- set的內容元素都必須是獨一無二的。\n",
        "- set的空集合設定方式不是用{}表示，因為這個符號用法會被套用在dict字典結構。\n"
      ],
      "metadata": {
        "id": "_s3u8fgkurdf"
      }
    },
    {
      "cell_type": "markdown",
      "source": [
        "##### 建立一個新的set\n",
        "```\n",
        "變數名稱={值1, 值2, ...}\n",
        "```"
      ],
      "metadata": {
        "id": "sRDd7h3pniR6"
      }
    },
    {
      "cell_type": "code",
      "execution_count": null,
      "metadata": {
        "id": "Qlsk2smqncql",
        "colab": {
          "base_uri": "https://localhost:8080/"
        },
        "outputId": "5851d585-c62f-492d-cffd-31da8af9abad"
      },
      "outputs": [
        {
          "output_type": "stream",
          "name": "stdout",
          "text": [
            "set1= {1, 2, 'a', 5}\n",
            "set2= {1, 2, 3}\n"
          ]
        }
      ],
      "source": [
        "set1={1,2,5,\"a\"}\n",
        "print(\"set1=\",set1)\n",
        "set2={1,2,2,3}\n",
        "print(\"set2=\",set2)"
      ]
    },
    {
      "cell_type": "markdown",
      "source": [
        "#### 建立一個空set\n",
        "```\n",
        "變數名稱=set()\n",
        "```"
      ],
      "metadata": {
        "id": "9MEW8tLpnuKC"
      }
    },
    {
      "cell_type": "code",
      "source": [
        "set3=set()\n",
        "print(\"set3=\",set3)"
      ],
      "metadata": {
        "colab": {
          "base_uri": "https://localhost:8080/"
        },
        "id": "KiqWbKUNsNh0",
        "outputId": "198be1b2-f8e1-4073-8c89-1581d2770cc0"
      },
      "execution_count": null,
      "outputs": [
        {
          "output_type": "stream",
          "name": "stdout",
          "text": [
            "set3= set()\n"
          ]
        }
      ]
    },
    {
      "cell_type": "markdown",
      "source": [
        "#### 新增(add) / 刪除(remove)一個值到set內\n",
        "```\n",
        "set變數名稱.add(值)\n",
        "set變數名稱.remove(值)\n",
        "```"
      ],
      "metadata": {
        "id": "w8UVvbVznz17"
      }
    },
    {
      "cell_type": "code",
      "source": [
        "set2.add(4)\n",
        "set1.remove(5)\n",
        "print(set2)\n",
        "print(set1)"
      ],
      "metadata": {
        "colab": {
          "base_uri": "https://localhost:8080/"
        },
        "id": "LQW0RyTDsRuk",
        "outputId": "4752fbb6-6ca7-4744-8fd2-e11948049b42"
      },
      "execution_count": null,
      "outputs": [
        {
          "output_type": "stream",
          "name": "stdout",
          "text": [
            "{1, 2, 3, 4}\n",
            "{1, 2, 'a'}\n"
          ]
        }
      ]
    },
    {
      "cell_type": "markdown",
      "source": [
        "#### 計算set中的描述性統計\n",
        "\n",
        "```\n",
        "len(set變數名稱)  ##計算set的長度\n",
        "sum(set變數名稱)  ##計算set的總和\n",
        "max(set變數名稱)  ##計算set的最大值\n",
        "min(set變數名稱)  ##計算set的最小值\n",
        "```"
      ],
      "metadata": {
        "id": "wbpcmLRWoCvq"
      }
    },
    {
      "cell_type": "code",
      "source": [
        "print(len(set1))\n",
        "print(len(set2))"
      ],
      "metadata": {
        "colab": {
          "base_uri": "https://localhost:8080/"
        },
        "id": "dkIdzh48sbm1",
        "outputId": "80bc0016-eec2-4a00-e6ad-260ad33158f7"
      },
      "execution_count": null,
      "outputs": [
        {
          "output_type": "stream",
          "name": "stdout",
          "text": [
            "3\n",
            "4\n"
          ]
        }
      ]
    },
    {
      "cell_type": "code",
      "source": [
        "print(sum(set1))\n",
        "print(sum(set2))"
      ],
      "metadata": {
        "colab": {
          "base_uri": "https://localhost:8080/",
          "height": 159
        },
        "id": "cEcEEPc0sm7C",
        "outputId": "27a0f1e2-84e8-491d-a5e3-32d6a3fa65a8"
      },
      "execution_count": null,
      "outputs": [
        {
          "output_type": "error",
          "ename": "TypeError",
          "evalue": "unsupported operand type(s) for +: 'int' and 'str'",
          "traceback": [
            "\u001b[0;31m---------------------------------------------------------------------------\u001b[0m",
            "\u001b[0;31mTypeError\u001b[0m                                 Traceback (most recent call last)",
            "\u001b[0;32m<ipython-input-27-2f6390953b9c>\u001b[0m in \u001b[0;36m<cell line: 0>\u001b[0;34m()\u001b[0m\n\u001b[0;32m----> 1\u001b[0;31m \u001b[0mprint\u001b[0m\u001b[0;34m(\u001b[0m\u001b[0msum\u001b[0m\u001b[0;34m(\u001b[0m\u001b[0mset1\u001b[0m\u001b[0;34m)\u001b[0m\u001b[0;34m)\u001b[0m\u001b[0;34m\u001b[0m\u001b[0;34m\u001b[0m\u001b[0m\n\u001b[0m\u001b[1;32m      2\u001b[0m \u001b[0mprint\u001b[0m\u001b[0;34m(\u001b[0m\u001b[0msum\u001b[0m\u001b[0;34m(\u001b[0m\u001b[0mset2\u001b[0m\u001b[0;34m)\u001b[0m\u001b[0;34m)\u001b[0m\u001b[0;34m\u001b[0m\u001b[0;34m\u001b[0m\u001b[0m\n",
            "\u001b[0;31mTypeError\u001b[0m: unsupported operand type(s) for +: 'int' and 'str'"
          ]
        }
      ]
    },
    {
      "cell_type": "code",
      "source": [
        "print(max(set2))\n",
        "print(min(set2))"
      ],
      "metadata": {
        "colab": {
          "base_uri": "https://localhost:8080/"
        },
        "id": "mD7MhekDsqQh",
        "outputId": "0cfedcdf-3bd6-4ded-c99e-bd9659656303"
      },
      "execution_count": null,
      "outputs": [
        {
          "output_type": "stream",
          "name": "stdout",
          "text": [
            "4\n",
            "1\n"
          ]
        }
      ]
    },
    {
      "cell_type": "markdown",
      "source": [
        "#### 集合計算"
      ],
      "metadata": {
        "id": "FWrFFjOnqOO-"
      }
    },
    {
      "cell_type": "markdown",
      "source": [
        "###### 聯集\n",
        "\n",
        "```\n",
        "setA.union(setB) #寫法一             \n",
        "setA | setB  #寫法二\n",
        "```"
      ],
      "metadata": {
        "id": "TgOHtw5uoLO1"
      }
    },
    {
      "cell_type": "markdown",
      "source": [
        "###### 交集\n",
        "```\n",
        "setA.intersection(setB)  #寫法一\n",
        "setA & setB       #寫法二\n",
        "```"
      ],
      "metadata": {
        "id": "sfiTrVtjogr6"
      }
    },
    {
      "cell_type": "markdown",
      "source": [
        "###### 差集\n",
        "（去除A中同時也屬於B的部份）\n",
        "```\n",
        "setA.difference(setB)  #寫法一\n",
        "setA - setB      #寫法二\n",
        "\n",
        "```\n"
      ],
      "metadata": {
        "id": "Reu4adRYonFP"
      }
    },
    {
      "cell_type": "markdown",
      "source": [
        "###### 交集的餘集\n",
        "```\n",
        "setA.symmetric_difference(setB)   #寫法一\n",
        "setA ^ setB            #寫法二\n",
        "```"
      ],
      "metadata": {
        "id": "nJ0_uq7Rosc0"
      }
    },
    {
      "cell_type": "code",
      "execution_count": null,
      "metadata": {
        "id": "URv5_3MAncqm",
        "colab": {
          "base_uri": "https://localhost:8080/"
        },
        "outputId": "9d1db149-9192-4a05-9c1b-a8435a1491cc"
      },
      "outputs": [
        {
          "output_type": "stream",
          "name": "stdout",
          "text": [
            "{1, 2, 'a'}\n",
            "{1, 2, 3, 4}\n",
            "{1, 2}\n",
            "{1, 2, 3, 4, 'a'}\n",
            "{'a'}\n",
            "{3, 4, 'a'}\n"
          ]
        }
      ],
      "source": [
        "print(set1)\n",
        "print(set2)\n",
        "print(set1.intersection(set2))\n",
        "print(set1.union(set2))\n",
        "print(set1.difference(set2))\n",
        "print(set1.symmetric_difference(set2))"
      ]
    },
    {
      "cell_type": "code",
      "source": [
        "print(set1 | set2)"
      ],
      "metadata": {
        "colab": {
          "base_uri": "https://localhost:8080/"
        },
        "id": "Cp6CiZBRuR0x",
        "outputId": "2ee08147-4ef0-46a3-bef5-d035d7031bef"
      },
      "execution_count": null,
      "outputs": [
        {
          "output_type": "stream",
          "name": "stdout",
          "text": [
            "{1, 2, 3, 4, 'a'}\n"
          ]
        }
      ]
    },
    {
      "cell_type": "markdown",
      "source": [
        "### list(串列)\n",
        "- List用中括號[ ]表示，不同的值用逗號分隔。\n",
        "\n"
      ],
      "metadata": {
        "id": "KBv1jmFZvK0y"
      }
    },
    {
      "cell_type": "markdown",
      "source": [
        "#### 建立一個新的list\n",
        "```\n",
        "變數名稱=[值1, 值2, ...]\n",
        "```"
      ],
      "metadata": {
        "id": "7LPjqFpIu779"
      }
    },
    {
      "cell_type": "code",
      "source": [
        "list1=[1,2]\n",
        "list2=[3,4]\n",
        "list1=list1+list2\n",
        "print(list1)"
      ],
      "metadata": {
        "id": "1ncX1NWD_f2X",
        "colab": {
          "base_uri": "https://localhost:8080/"
        },
        "outputId": "dadde9e6-c6cc-4b88-f73c-0402f47ce1b0"
      },
      "execution_count": null,
      "outputs": [
        {
          "output_type": "stream",
          "name": "stdout",
          "text": [
            "[1, 2, 3, 4]\n"
          ]
        }
      ]
    },
    {
      "cell_type": "code",
      "execution_count": null,
      "metadata": {
        "id": "JUe0tCWKncqn",
        "colab": {
          "base_uri": "https://localhost:8080/"
        },
        "outputId": "fe0f312e-032b-45c7-fd3a-32b266acb9d7"
      },
      "outputs": [
        {
          "output_type": "stream",
          "name": "stdout",
          "text": [
            "list3= ['B', 5, 8, ['A', 1, 5]]\n",
            "list4= [[1, 2, 3, 4], (1, 2, 3, 'a', 7, 8)]\n"
          ]
        }
      ],
      "source": [
        "list3=[\"B\",5,8,[\"A\",1,5]]\n",
        "print(\"list3=\",list3)\n",
        "list4=[list1,tuple1]\n",
        "print(\"list4=\",list4)\n"
      ]
    },
    {
      "cell_type": "markdown",
      "source": [
        "##### 建立一個空list\n",
        "```\n",
        "變數名稱=[]    \n",
        "```"
      ],
      "metadata": {
        "id": "57v1z8zWvmm1"
      }
    },
    {
      "cell_type": "code",
      "source": [
        "list1_2=list()\n",
        "print(type(list1_2))"
      ],
      "metadata": {
        "colab": {
          "base_uri": "https://localhost:8080/"
        },
        "id": "wLdI0zErVSi0",
        "outputId": "72a8ae25-d21a-43fe-94ce-8e815c23f017"
      },
      "execution_count": null,
      "outputs": [
        {
          "output_type": "stream",
          "name": "stdout",
          "text": [
            "<class 'list'>\n"
          ]
        }
      ]
    },
    {
      "cell_type": "markdown",
      "source": [
        "#### 取值\n",
        "- python的容器索引從0開始，取最後一個值的索引值可以用-1。\n",
        "```\n",
        "list變數名稱[index] #只取一個已知位置的值\n",
        "list變數名稱[start:end:range]  #取一個或多個值。start(開始位置)預設為0，end(最後一個值的後一位)預設為總個數+1(即不含end)，range(間隔位置)預設為1\n",
        "\n",
        "```"
      ],
      "metadata": {
        "id": "suW1zYJyvx3k"
      }
    },
    {
      "cell_type": "code",
      "source": [
        "print(list1[3])\n",
        "print(list3[-1])\n",
        "print(list3[-1][0])\n",
        "list5=[1,2,3,4,5,6,7,8,9,10]\n",
        "print(list5[0:5:2])"
      ],
      "metadata": {
        "colab": {
          "base_uri": "https://localhost:8080/"
        },
        "id": "XdvE6OBfWrwF",
        "outputId": "581136a9-c66b-49d0-fefe-72cb768bc257"
      },
      "execution_count": null,
      "outputs": [
        {
          "output_type": "stream",
          "name": "stdout",
          "text": [
            "4\n",
            "['A', 1, 5]\n",
            "A\n",
            "[1, 3, 5]\n"
          ]
        }
      ]
    },
    {
      "cell_type": "markdown",
      "source": [
        "#### 新增元素\n",
        "```\n",
        "list變數名稱.append(值)        ##新增一個元素\n",
        "list變數名稱 += [值1, 值2, ...]  ##新增一個或多個元素  \n",
        "```"
      ],
      "metadata": {
        "id": "bXEF_lS8v8rd"
      }
    },
    {
      "cell_type": "code",
      "source": [
        "list1.append([\"B\",1,8])\n",
        "print(\"list1_新增元素=\",list1)\n",
        "list1+=[\"a\",\"5\",1]\n",
        "print(\"list1_新增元素=\",list1)"
      ],
      "metadata": {
        "colab": {
          "base_uri": "https://localhost:8080/"
        },
        "id": "oUKbiBMmzWDt",
        "outputId": "3ac0b3c8-c3e5-43ea-b9ee-09ac37e5a766"
      },
      "execution_count": null,
      "outputs": [
        {
          "output_type": "stream",
          "name": "stdout",
          "text": [
            "list1_新增元素= [3, 4, ['B', 1, 8], 'a', '5', ['B', 1, 8]]\n",
            "list1_新增元素= [3, 4, ['B', 1, 8], 'a', '5', ['B', 1, 8], 'a', '5', 1]\n"
          ]
        }
      ]
    },
    {
      "cell_type": "markdown",
      "source": [
        "#### 刪除元素\n",
        "```\n",
        "list變數名稱.remove(值)   ##刪除list某個特定元素\n",
        "del list[index]      ##刪除多個元素，index可寫多個，用,(逗號)隔開。\n",
        "```"
      ],
      "metadata": {
        "id": "EVWd4RvJwKVm"
      }
    },
    {
      "cell_type": "code",
      "execution_count": null,
      "metadata": {
        "id": "jc3yNh4gncqo",
        "colab": {
          "base_uri": "https://localhost:8080/"
        },
        "outputId": "5484a133-202a-4af5-c2d2-a0f11b30631f"
      },
      "outputs": [
        {
          "output_type": "stream",
          "name": "stdout",
          "text": [
            "[3, 4, ['B', 1, 8], 'a', '5', ['B', 1, 8], 'a', '5', 1]\n",
            "list6_刪除元素(remove)= [3, 4, ['B', 1, 8], 'a', '5', ['B', 1, 8], 'a', '5']\n",
            "list1= [3, 4, ['B', 1, 8], 'a', '5', ['B', 1, 8], 'a', '5', 1]\n"
          ]
        }
      ],
      "source": [
        "list6=list1.copy()\n",
        "print(list6)\n",
        "list6.remove(1)\n",
        "print(\"list6_刪除元素(remove)=\",list6)\n",
        "print(\"list1=\",list1)"
      ]
    },
    {
      "cell_type": "code",
      "source": [
        "list7=list1\n",
        "del list7[1:5]\n",
        "print(\"list7_刪除元素(del)=\",list7)\n",
        "print(\"list1=\",list1)"
      ],
      "metadata": {
        "id": "gizpVge1zL1K",
        "colab": {
          "base_uri": "https://localhost:8080/"
        },
        "outputId": "19f52460-8594-4a26-bafd-20f15c21c219"
      },
      "execution_count": null,
      "outputs": [
        {
          "output_type": "stream",
          "name": "stdout",
          "text": [
            "list7_刪除元素(del)= [3, ['B', 1, 8], 'a', '5', 1]\n",
            "list1= [3, ['B', 1, 8], 'a', '5', 1]\n"
          ]
        }
      ]
    },
    {
      "cell_type": "markdown",
      "source": [
        "#### 計算資料筆數\n",
        "```\n",
        "len(list名稱)\n",
        "```\n"
      ],
      "metadata": {
        "id": "SiLO1WT3yzPm"
      }
    },
    {
      "cell_type": "code",
      "execution_count": null,
      "metadata": {
        "id": "Gv-zF73Fncqt",
        "colab": {
          "base_uri": "https://localhost:8080/"
        },
        "outputId": "ee354bee-9fb9-44ec-fd5c-aad8adbfdb9a"
      },
      "outputs": [
        {
          "output_type": "stream",
          "name": "stdout",
          "text": [
            "9\n"
          ]
        }
      ],
      "source": [
        "list6=[1,3,5,6,2,8,4,7,3]\n",
        "print(len(list6))"
      ]
    },
    {
      "cell_type": "markdown",
      "source": [
        "#### 排序\n",
        "```\n",
        "sorted(list名稱)\n",
        "list名稱.sort()\n",
        "```\n",
        "##### 兩者差異說明\n",
        " 1. sorted()：不會改變原本的list，只會回傳由小到大排序後的結果(新增另一個list)\n",
        " 2. list名稱.sort()會影響原本的list內容(將排序後的結果存於原本的list內，永久改變原list的內容。)\n"
      ],
      "metadata": {
        "id": "Tfuir82Uy1vv"
      }
    },
    {
      "cell_type": "code",
      "source": [
        "print(\"sorted：\",sorted(list6))\n",
        "print(list6)"
      ],
      "metadata": {
        "id": "vYGNm1JM0RDo",
        "colab": {
          "base_uri": "https://localhost:8080/"
        },
        "outputId": "ac7c654b-ac70-4aad-e2fc-985457280a68"
      },
      "execution_count": null,
      "outputs": [
        {
          "output_type": "stream",
          "name": "stdout",
          "text": [
            "sorted： [1, 2, 3, 3, 4, 5, 6, 7, 8]\n",
            "[1, 3, 5, 6, 2, 8, 4, 7, 3]\n"
          ]
        }
      ]
    },
    {
      "cell_type": "code",
      "source": [
        "list6.sort()\n",
        "print(\"list.sort()：\", list6)"
      ],
      "metadata": {
        "id": "rE91Hhqf0WJM",
        "colab": {
          "base_uri": "https://localhost:8080/"
        },
        "outputId": "09d96d96-5a6b-410f-9014-f844d02ff624"
      },
      "execution_count": null,
      "outputs": [
        {
          "output_type": "stream",
          "name": "stdout",
          "text": [
            "list.sort()： [1, 2, 3, 3, 4, 5, 6, 7, 8]\n"
          ]
        }
      ]
    },
    {
      "cell_type": "markdown",
      "source": [
        "#### 計數及檢索位置\n",
        "```\n",
        "list名稱.count(x)  #統計某特定值(x)出現的次數\n",
        "list名稱.index(x)  #尋找某特定值的最早出現索引位置：\n",
        "```"
      ],
      "metadata": {
        "id": "J27EwqwJy7Nl"
      }
    },
    {
      "cell_type": "code",
      "source": [
        "n=3\n",
        "print(\"count()：\",list6.count(n))\n",
        "print(list6)\n",
        "print(\"index()：\",list6.index(n))"
      ],
      "metadata": {
        "id": "ZvcaZ0KY0nEF",
        "colab": {
          "base_uri": "https://localhost:8080/"
        },
        "outputId": "cbb2fe8c-f18f-4dbc-90c5-0f9898dd1f84"
      },
      "execution_count": null,
      "outputs": [
        {
          "output_type": "stream",
          "name": "stdout",
          "text": [
            "count()： 2\n",
            "[1, 2, 3, 3, 4, 5, 6, 7, 8]\n",
            "index()： 2\n"
          ]
        }
      ]
    },
    {
      "cell_type": "markdown",
      "source": [
        "#### 分割字串成list元素"
      ],
      "metadata": {
        "id": "uaMsgeX63EtK"
      }
    },
    {
      "cell_type": "markdown",
      "source": [
        "##### 指定某個特定符號（或字串）進行分割\n",
        "```\n",
        "字串.split(分割符號, 分割次數)  #其中分割字元若沒指定，則預設為空格；分割次數若不指定，為分割整個字串。\n",
        "```"
      ],
      "metadata": {
        "id": "3nVSA4dazCbu"
      }
    },
    {
      "cell_type": "code",
      "execution_count": null,
      "metadata": {
        "id": "r3Zp7E_oncqu",
        "colab": {
          "base_uri": "https://localhost:8080/"
        },
        "outputId": "cd3f60b7-4568-4c44-fc27-aed0136307f8"
      },
      "outputs": [
        {
          "output_type": "execute_result",
          "data": {
            "text/plain": [
              "['Python_Jupyter', 'notebook']"
            ]
          },
          "metadata": {},
          "execution_count": 51
        }
      ],
      "source": [
        "text=\"Python_Jupyter notebook\"\n",
        "text.split()"
      ]
    },
    {
      "cell_type": "code",
      "execution_count": null,
      "metadata": {
        "id": "ihDYlvcrncqu",
        "colab": {
          "base_uri": "https://localhost:8080/"
        },
        "outputId": "1b3b0475-af0a-418f-a638-bbd1002aa0cb"
      },
      "outputs": [
        {
          "output_type": "execute_result",
          "data": {
            "text/plain": [
              "['Pyth', 'n_Jupyter n', 'teb', '', 'k']"
            ]
          },
          "metadata": {},
          "execution_count": 52
        }
      ],
      "source": [
        "text.split(\"o\")"
      ]
    },
    {
      "cell_type": "markdown",
      "source": [
        "##### 多個分割符號\n",
        "- 用re模組內的re.split()\n",
        " ```\n",
        " import re\n",
        " list變數=re.split('[分割符號1分割符號2]',字串)   ##多個分割符號不用隔開\n",
        " ```"
      ],
      "metadata": {
        "id": "YM5y3eOi3zuC"
      }
    },
    {
      "cell_type": "code",
      "execution_count": null,
      "metadata": {
        "id": "G9VScQ58ncqu",
        "colab": {
          "base_uri": "https://localhost:8080/"
        },
        "outputId": "aae81f75-c3d6-4345-f839-3eef0ad74edd"
      },
      "outputs": [
        {
          "output_type": "stream",
          "name": "stdout",
          "text": [
            "['Python', 'Jupyter', 'notebook']\n"
          ]
        }
      ],
      "source": [
        "import re\n",
        "text1=re.split('[_ ]',text)\n",
        "print(text1)"
      ]
    },
    {
      "cell_type": "markdown",
      "source": [
        "### dict(字典)\n",
        "- key:value的型式。"
      ],
      "metadata": {
        "id": "Wn7daofqvN8G"
      }
    },
    {
      "cell_type": "markdown",
      "source": [
        "#### 建立新的dict\n",
        "```\n",
        "變數名稱={key1:value1, key2:value2, ...}\n",
        "```"
      ],
      "metadata": {
        "id": "FedHHTmu5Mu2"
      }
    },
    {
      "cell_type": "code",
      "execution_count": null,
      "metadata": {
        "id": "a17urUh5ncqo",
        "colab": {
          "base_uri": "https://localhost:8080/"
        },
        "outputId": "b23502b8-9515-49a4-929d-8dfba93fd1a5"
      },
      "outputs": [
        {
          "output_type": "stream",
          "name": "stdout",
          "text": [
            "dict1= {'瑞士': '伯恩', '日本': '東京', '美國': '華盛頓特區'}\n"
          ]
        }
      ],
      "source": [
        "dict1={\"瑞士\":\"伯恩\",\"日本\":\"東京\",\"美國\":\"華盛頓特區\"}\n",
        "print(\"dict1=\",dict1)"
      ]
    },
    {
      "cell_type": "markdown",
      "source": [
        "#### 取值(key前後要加引號)\n",
        "```\n",
        "dict變數名稱[key]                          \n",
        "```"
      ],
      "metadata": {
        "id": "lRQw2sRt5gVv"
      }
    },
    {
      "cell_type": "code",
      "source": [
        "print(dict1[\"日本\"])"
      ],
      "metadata": {
        "colab": {
          "base_uri": "https://localhost:8080/"
        },
        "id": "ln0tp0oB7zEl",
        "outputId": "ec806397-f85e-442c-b479-dfbb8c72af77"
      },
      "execution_count": null,
      "outputs": [
        {
          "output_type": "stream",
          "name": "stdout",
          "text": [
            "東京\n"
          ]
        }
      ]
    },
    {
      "cell_type": "markdown",
      "source": [
        "#### 新增值（要同時有key:value）\n",
        "```\n",
        "dict變數名稱[NEW key]=new values  ##新增一組\n",
        "dict變數名稱.update({key1:value1, key2:value2, ...}) ##新增多組\n",
        "```                "
      ],
      "metadata": {
        "id": "ZWHq2Yvv5l9c"
      }
    },
    {
      "cell_type": "code",
      "source": [
        "dict1[\"越南\"]=\"河內\"\n",
        "print(\"dict1(新增)_越南=\",dict1)"
      ],
      "metadata": {
        "colab": {
          "base_uri": "https://localhost:8080/"
        },
        "id": "3u4pqcii72tF",
        "outputId": "c65903f4-f994-40ca-e32f-045aa03d0748"
      },
      "execution_count": null,
      "outputs": [
        {
          "output_type": "stream",
          "name": "stdout",
          "text": [
            "dict1(新增)_越南= {'瑞士': '伯恩', '美國': '華盛頓特區', '英國': '倫敦', '法國': '巴黎', '越南': '河內'}\n"
          ]
        }
      ]
    },
    {
      "cell_type": "code",
      "source": [
        "dict1.update({\"英國\":\"倫敦\",\"法國\":\"巴黎\"})\n",
        "print(\"dict1(新增)_英國及法國=\",dict1)"
      ],
      "metadata": {
        "colab": {
          "base_uri": "https://localhost:8080/"
        },
        "id": "aMDi0RMf8ITy",
        "outputId": "48b5162f-800d-4652-ea89-c06bc3197677"
      },
      "execution_count": null,
      "outputs": [
        {
          "output_type": "stream",
          "name": "stdout",
          "text": [
            "dict1(新增)_英國及法國= {'瑞士': '伯恩', '日本': '東京', '美國': '華盛頓特區', '越南': '河內', '英國': '倫敦', '法國': '巴黎'}\n"
          ]
        }
      ]
    },
    {
      "cell_type": "markdown",
      "source": [
        "#### 刪除值（一次只能刪一筆）\n",
        "```\n",
        "del dict變數名稱[key]\n",
        "dict變數名稱.pop(key)\n",
        "```"
      ],
      "metadata": {
        "id": "me1ilYZd5yvL"
      }
    },
    {
      "cell_type": "code",
      "source": [
        "del dict1[\"日本\"]\n",
        "print(\"dict1(刪除)_日本=\",dict1)"
      ],
      "metadata": {
        "colab": {
          "base_uri": "https://localhost:8080/"
        },
        "id": "w4lGHnjl8Auu",
        "outputId": "4f1acebe-63cc-45c7-c638-3d99b60e60b5"
      },
      "execution_count": null,
      "outputs": [
        {
          "output_type": "stream",
          "name": "stdout",
          "text": [
            "dict1(刪除)_日本= {'瑞士': '伯恩', '美國': '華盛頓特區', '越南': '河內', '英國': '倫敦', '法國': '巴黎'}\n"
          ]
        }
      ]
    },
    {
      "cell_type": "code",
      "source": [
        "dict1.pop(\"越南\")\n",
        "print(\"dict1(刪除)_越南=\",dict1)"
      ],
      "metadata": {
        "colab": {
          "base_uri": "https://localhost:8080/"
        },
        "id": "TO-w_oJF8YxW",
        "outputId": "8227a7b5-d63c-47a4-f82e-29db5b3dfcbf"
      },
      "execution_count": null,
      "outputs": [
        {
          "output_type": "stream",
          "name": "stdout",
          "text": [
            "dict1(刪除)_越南= {'瑞士': '伯恩', '美國': '華盛頓特區', '英國': '倫敦', '法國': '巴黎'}\n"
          ]
        }
      ]
    },
    {
      "cell_type": "markdown",
      "metadata": {
        "id": "jz5ef8ufncqo"
      },
      "source": [
        "# 條件判斷式"
      ]
    },
    {
      "cell_type": "markdown",
      "source": [
        "## 比較運算符\n",
        "* ==       等於\n",
        "* !=       不等於\n",
        "* ```>```        大於\n",
        "* <        小於\n",
        "* ```>=```       大於等於\n",
        "* <=       小於等於\n",
        "* in list     資料存在list中"
      ],
      "metadata": {
        "id": "2XmYOyqC9ARr"
      }
    },
    {
      "cell_type": "code",
      "source": [
        "print(1 == 2)\n",
        "print(1 != 2)\n",
        "print(\"a\" in [1,2,3,\"a\"])\n",
        "print(\"a\" in [1,2,[\"a\"]])"
      ],
      "metadata": {
        "colab": {
          "base_uri": "https://localhost:8080/"
        },
        "id": "sz32y976-rsR",
        "outputId": "7a54ab7b-aa14-46dc-bf47-ee9c5b56a961"
      },
      "execution_count": null,
      "outputs": [
        {
          "output_type": "stream",
          "name": "stdout",
          "text": [
            "False\n",
            "True\n",
            "True\n",
            "False\n"
          ]
        }
      ]
    },
    {
      "cell_type": "markdown",
      "source": [
        "## if 敘述句\n",
        "```\n",
        "if 條件判斷式:\n",
        "    程式區塊\n",
        "```"
      ],
      "metadata": {
        "id": "TEENwgKO9Fpd"
      }
    },
    {
      "cell_type": "code",
      "execution_count": null,
      "metadata": {
        "id": "DgNCW4D5ncqp",
        "colab": {
          "base_uri": "https://localhost:8080/"
        },
        "outputId": "5a4f6a9a-00e2-4a7b-cb00-622f0a4d0ecc"
      },
      "outputs": [
        {
          "name": "stdout",
          "output_type": "stream",
          "text": [
            "請輸入0~100的數字:50\n"
          ]
        }
      ],
      "source": [
        "num1=int(input(\"請輸入0~100的數字:\"))\n",
        "if num1>=60:\n",
        "    print(\"及格\")"
      ]
    },
    {
      "cell_type": "markdown",
      "source": [
        "## if...else...敘述句\n",
        "```\n",
        "if 條件判斷式:\n",
        "    程式區塊\n",
        "else:\n",
        "    程式區塊\n",
        "```"
      ],
      "metadata": {
        "id": "rHw9umkD9LtE"
      }
    },
    {
      "cell_type": "code",
      "execution_count": null,
      "metadata": {
        "id": "00KAB3RZncqp",
        "colab": {
          "base_uri": "https://localhost:8080/"
        },
        "outputId": "8dbaf987-8e4b-4a0c-8dad-2f399be8f3f6"
      },
      "outputs": [
        {
          "output_type": "stream",
          "name": "stdout",
          "text": [
            "請輸入0~100的數字:\n",
            "50\n",
            "不及格\n"
          ]
        }
      ],
      "source": [
        "print(\"請輸入0~100的數字:\")\n",
        "num1=int(input())\n",
        "if num1>=60:\n",
        "    print(\"及格\")\n",
        "else:\n",
        "    print(\"不及格\")"
      ]
    },
    {
      "cell_type": "markdown",
      "source": [
        "## if...elif...else...敘述句\n",
        "```\n",
        "if 條件判斷式1:\n",
        "    程式區塊\n",
        "elif 條件判斷式2:\n",
        "    程式區塊\n",
        "elif 條件判斷式3:\n",
        "    程式區塊\n",
        "else:\n",
        "    程式區塊\n",
        "```"
      ],
      "metadata": {
        "id": "FrvT3TpB9WJ5"
      }
    },
    {
      "cell_type": "code",
      "execution_count": null,
      "metadata": {
        "id": "sULCD5Ftncqq",
        "colab": {
          "base_uri": "https://localhost:8080/"
        },
        "outputId": "1e81877f-f78a-4d5b-8b37-3e3d3cd6873f"
      },
      "outputs": [
        {
          "output_type": "stream",
          "name": "stdout",
          "text": [
            "請輸入0~100的數字:\n",
            "95\n",
            "很棒\n",
            "及格\n"
          ]
        }
      ],
      "source": [
        "print(\"請輸入0~100的數字:\")\n",
        "num1=int(input())\n",
        "if num1>=90:\n",
        "    print(\"很棒\")\n",
        "elif num1>=60:\n",
        "    print(\"及格\")\n",
        "elif num1<50:\n",
        "    print(\"太差了，請加油\")\n",
        "else:\n",
        "    print(\"不及格\")"
      ]
    },
    {
      "cell_type": "markdown",
      "metadata": {
        "id": "sIjug8lNncqq"
      },
      "source": [
        "# 迴圈\n"
      ]
    },
    {
      "cell_type": "markdown",
      "source": [
        "## for 迴圈\n",
        "\n",
        "\n"
      ],
      "metadata": {
        "id": "2S6C2bnUxObP"
      }
    },
    {
      "cell_type": "markdown",
      "source": [
        "   #### 1.基本for迴圈\n",
        "   ```\n",
        "   for 變數 in 容器:\n",
        "      程式區塊\n",
        "   ```\n",
        "  "
      ],
      "metadata": {
        "id": "2GH72zBCxXcY"
      }
    },
    {
      "cell_type": "code",
      "execution_count": null,
      "metadata": {
        "id": "V1gE9dA5ncqq",
        "colab": {
          "base_uri": "https://localhost:8080/"
        },
        "outputId": "f7369ba7-a468-4c86-ab72-3b1415a9cc36"
      },
      "outputs": [
        {
          "output_type": "stream",
          "name": "stdout",
          "text": [
            "1 是 dog\n",
            "2 是 cat\n",
            "3 是 monkey\n",
            "4 是 bird\n",
            "5 是 elephant\n"
          ]
        }
      ],
      "source": [
        "animal_list=[\"dog\",\"cat\",\"monkey\",\"bird\",\"elephant\"]\n",
        "i=0\n",
        "for animal in animal_list:\n",
        "  i+=1\n",
        "  print(i,\"是\",animal)"
      ]
    },
    {
      "cell_type": "markdown",
      "source": [
        "   #### 2.搭配二維list\n",
        "   ```\n",
        "   for 變數 in 二維list:\n",
        "      程式區塊\n",
        "   ```      \n"
      ],
      "metadata": {
        "id": "QUncuUtaxe_y"
      }
    },
    {
      "cell_type": "code",
      "execution_count": null,
      "metadata": {
        "id": "E3wBIJ2hncqr",
        "colab": {
          "base_uri": "https://localhost:8080/"
        },
        "outputId": "8ba72aa1-b5fc-461d-fef8-f16e42bb69cf"
      },
      "outputs": [
        {
          "output_type": "stream",
          "name": "stdout",
          "text": [
            "apple\n",
            "red\n",
            "banana\n",
            "yellow\n",
            "lemon\n",
            "green\n"
          ]
        }
      ],
      "source": [
        "fruits=[[\"apple\",\"red\"],[\"banana\",\"yellow\"],[\"lemon\",\"green\"]]\n",
        "for fruit in fruits:      ## 第一層for迴圈\n",
        "    for item in fruit:    ## 第二層for迴圈\n",
        "        print(item)"
      ]
    },
    {
      "cell_type": "markdown",
      "source": [
        "   #### 3.搭配range\n",
        "   ```\n",
        "   for 索引 in range(N):   ##N代表list的長度\n",
        "      程式區塊\n",
        "      \n",
        "   ```"
      ],
      "metadata": {
        "id": "3uAT5abTxpzI"
      }
    },
    {
      "cell_type": "code",
      "execution_count": null,
      "metadata": {
        "id": "Jg92EDq0ncqr",
        "colab": {
          "base_uri": "https://localhost:8080/"
        },
        "outputId": "565518a8-3071-4a3e-a873-9f21cc93a351"
      },
      "outputs": [
        {
          "output_type": "stream",
          "name": "stdout",
          "text": [
            "item 1 = dog\n",
            "item 3 = monkey\n",
            "item 5 = elephant\n"
          ]
        }
      ],
      "source": [
        "for i in range(0,len(animal_list),2):\n",
        "    print (\"item\", i+1, \"=\", animal_list[i])\n",
        "    #print(i)"
      ]
    },
    {
      "cell_type": "code",
      "source": [
        "len(animal_list)"
      ],
      "metadata": {
        "colab": {
          "base_uri": "https://localhost:8080/"
        },
        "id": "_nskV5vKb-lx",
        "outputId": "3c266bdb-a0f9-478e-bfdc-543cb797901c"
      },
      "execution_count": null,
      "outputs": [
        {
          "output_type": "execute_result",
          "data": {
            "text/plain": [
              "5"
            ]
          },
          "metadata": {},
          "execution_count": 13
        }
      ]
    },
    {
      "cell_type": "markdown",
      "source": [
        "## while 迴圈"
      ],
      "metadata": {
        "id": "IDty4OzsxRJD"
      }
    },
    {
      "cell_type": "markdown",
      "source": [
        "   #### 1.基本while迴圈\n",
        "   ```\n",
        "   while 條件判斷式:\n",
        "      程式區塊\n",
        "   ```\n"
      ],
      "metadata": {
        "id": "7ZNqyMbixwpG"
      }
    },
    {
      "cell_type": "code",
      "source": [
        "len(animal_list)"
      ],
      "metadata": {
        "id": "0Lfks4LDMqGm",
        "colab": {
          "base_uri": "https://localhost:8080/"
        },
        "outputId": "297b9973-ecbb-466f-8d0d-de25c39ae11b"
      },
      "execution_count": null,
      "outputs": [
        {
          "output_type": "execute_result",
          "data": {
            "text/plain": [
              "5"
            ]
          },
          "metadata": {},
          "execution_count": 26
        }
      ]
    },
    {
      "cell_type": "code",
      "execution_count": null,
      "metadata": {
        "id": "42WiEAHAncqr",
        "colab": {
          "base_uri": "https://localhost:8080/"
        },
        "outputId": "e1a1f576-f580-454c-b83e-01b15d6bc0b1"
      },
      "outputs": [
        {
          "output_type": "stream",
          "name": "stdout",
          "text": [
            "0\n",
            "1\n",
            "2\n",
            "3\n",
            "4\n"
          ]
        }
      ],
      "source": [
        "n = 0\n",
        "while n < 5:\n",
        "    print(n)\n",
        "    n+=1"
      ]
    },
    {
      "cell_type": "markdown",
      "source": [
        "   #### 2.使用break\n",
        "   - 脫離while迴圈\n",
        "   ```\n",
        "   while 條件判斷式:\n",
        "      程式區塊\n",
        "      if 條件判斷式:\n",
        "         break\n",
        "   ```      \n",
        "  "
      ],
      "metadata": {
        "id": "-ft6Cukix4Ay"
      }
    },
    {
      "cell_type": "code",
      "execution_count": null,
      "metadata": {
        "id": "Om1PLBEfncqs",
        "colab": {
          "base_uri": "https://localhost:8080/"
        },
        "outputId": "2ebb984e-94a7-4265-c308-c69ce70e5368"
      },
      "outputs": [
        {
          "output_type": "stream",
          "name": "stdout",
          "text": [
            "0\n",
            "1\n",
            "2\n",
            "3\n",
            "4\n"
          ]
        }
      ],
      "source": [
        "n=0\n",
        "while True:\n",
        "    print(n)\n",
        "    n+=1\n",
        "    if n>= 5:\n",
        "        break"
      ]
    },
    {
      "cell_type": "markdown",
      "source": [
        "   #### 3.使用continue\n",
        "   - 跳過後面的程式區，回到下一圈的while 判斷式\n",
        "   ```\n",
        "   while 條件判斷式:\n",
        "      程式區塊\n",
        "      if 條件判斷式:\n",
        "         continue\n",
        "         \n",
        "      要跳過的程式區塊\n",
        "   ```"
      ],
      "metadata": {
        "id": "U6zI2j01x6Ge"
      }
    },
    {
      "cell_type": "code",
      "execution_count": null,
      "metadata": {
        "id": "Vxp4DV1Jncqs",
        "colab": {
          "base_uri": "https://localhost:8080/"
        },
        "outputId": "a61d0d39-fe52-4e4f-ca20-62b11df14064"
      },
      "outputs": [
        {
          "output_type": "stream",
          "name": "stdout",
          "text": [
            "2\n",
            "4\n",
            "5\n",
            "7\n",
            "8\n",
            "10\n"
          ]
        }
      ],
      "source": [
        "n=1\n",
        "while n<10:\n",
        "    n+=1\n",
        "    if n % 3 == 0:\n",
        "        continue\n",
        "    print(n)"
      ]
    }
  ],
  "metadata": {
    "kernelspec": {
      "display_name": "Python 3",
      "language": "python",
      "name": "python3"
    },
    "language_info": {
      "codemirror_mode": {
        "name": "ipython",
        "version": 3
      },
      "file_extension": ".py",
      "mimetype": "text/x-python",
      "name": "python",
      "nbconvert_exporter": "python",
      "pygments_lexer": "ipython3",
      "version": "3.7.4"
    },
    "colab": {
      "provenance": [],
      "toc_visible": true,
      "include_colab_link": true
    }
  },
  "nbformat": 4,
  "nbformat_minor": 0
}