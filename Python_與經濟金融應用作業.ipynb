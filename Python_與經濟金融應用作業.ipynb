{
  "nbformat": 4,
  "nbformat_minor": 0,
  "metadata": {
    "colab": {
      "provenance": [],
      "authorship_tag": "ABX9TyNfuQShHn8VqU7eQgG+yvlE",
      "include_colab_link": true
    },
    "kernelspec": {
      "name": "python3",
      "display_name": "Python 3"
    },
    "language_info": {
      "name": "python"
    }
  },
  "cells": [
    {
      "cell_type": "markdown",
      "metadata": {
        "id": "view-in-github",
        "colab_type": "text"
      },
      "source": [
        "<a href=\"https://colab.research.google.com/github/tozakichen/kkk/blob/main/Python_%E8%88%87%E7%B6%93%E6%BF%9F%E9%87%91%E8%9E%8D%E6%87%89%E7%94%A8%E4%BD%9C%E6%A5%AD.ipynb\" target=\"_parent\"><img src=\"https://colab.research.google.com/assets/colab-badge.svg\" alt=\"Open In Colab\"/></a>"
      ]
    },
    {
      "cell_type": "code",
      "execution_count": 17,
      "metadata": {
        "colab": {
          "base_uri": "https://localhost:8080/"
        },
        "id": "-ly_rionNBhP",
        "outputId": "3fe85680-558b-4dd9-f805-20cd2ab6a73b"
      },
      "outputs": [
        {
          "output_type": "stream",
          "name": "stdout",
          "text": [
            "--- 景氣對策燈號投資建議程式 ---\n",
            "請輸入目前的景氣對策燈號分數 (9~45分): 33\n",
            "------------------------------\n",
            "輸入的分數是: 33 分\n",
            "燈號：黃紅燈 (景氣活絡)\n",
            "建議：建議 **維持** 目前部位。\n",
            "------------------------------\n"
          ]
        }
      ],
      "source": [
        "def get_investment_advice(score):\n",
        "    \"\"\"\n",
        "    根據景氣對策燈號分數，提供加減碼建議。\n",
        "\n",
        "    參數:\n",
        "        score (int): 景氣對策燈號分數。\n",
        "\n",
        "    返回值:\n",
        "        str: 投資建議。\n",
        "    \"\"\"\n",
        "    if score >= 38:\n",
        "\n",
        "        signal = \"紅燈 (景氣過熱)\"\n",
        "        advice = \"建議 **賣出 (減碼)** 部位。\"\n",
        "    elif score >= 32:\n",
        "\n",
        "        signal = \"黃紅燈 (景氣活絡)\"\n",
        "        advice = \"建議 **維持** 目前部位。\"\n",
        "    elif score >= 23:\n",
        "\n",
        "        signal = \"綠燈 (景氣穩定)\"\n",
        "        advice = \"建議 **維持** 目前部位。\"\n",
        "    elif score >= 17:\n",
        "\n",
        "        signal = \"黃藍燈 (景氣欠佳)\"\n",
        "        advice = \"建議 **維持** 目前部位。\"\n",
        "    elif score >= 9:\n",
        "\n",
        "        signal = \"藍燈 (景氣低迷)\"\n",
        "        advice = \"建議 **買進 (加碼)** 部位。\"\n",
        "    else:\n",
        "\n",
        "        signal = \"無效或極度低迷分數\"\n",
        "        advice = \"不在定義範圍內，請確認輸入。\"\n",
        "        return f\"燈號：{signal}\\n建議：{advice}\"\n",
        "\n",
        "    return f\"燈號：{signal}\\n建議：{advice}\"\n",
        "\n",
        "def run_program():\n",
        "    \"\"\"\n",
        "    執行程式，獲取使用者輸入並印出建議，同時處理潛在的錯誤。\n",
        "    \"\"\"\n",
        "    print(\"--- 景氣對策燈號投資建議程式 ---\")\n",
        "\n",
        "\n",
        "    while True:\n",
        "        try:\n",
        "\n",
        "            user_input = input(\"請輸入目前的景氣對策燈號分數 (9~45分): \")\n",
        "\n",
        "\n",
        "            if user_input.lower() in ['exit', 'quit', 'q']:\n",
        "                print(\"程式結束。\")\n",
        "                break\n",
        "\n",
        "\n",
        "            score = int(user_input)\n",
        "\n",
        "\n",
        "            if score < 0 or score > 45:\n",
        "                print(f\"**錯誤：** 輸入分數 {score} 不在一般景氣對策燈號的合理範圍 (9-45) 內，請重新輸入。\")\n",
        "                continue\n",
        "\n",
        "\n",
        "            advice = get_investment_advice(score)\n",
        "            print(\"-\" * 30)\n",
        "            print(f\"輸入的分數是: {score} 分\")\n",
        "            print(advice)\n",
        "            print(\"-\" * 30)\n",
        "\n",
        "\n",
        "            break\n",
        "\n",
        "        except ValueError:\n",
        "\n",
        "            print(\"\\n**錯誤：** 輸入無效。請確認您輸入的是一個**整數分數**。\")\n",
        "        except Exception as e:\n",
        "\n",
        "            print(f\"\\n**發生未知錯誤：** {e}\")\n",
        "\n",
        "\n",
        "if __name__ == \"__main__\":\n",
        "    run_program()"
      ]
    }
  ]
}